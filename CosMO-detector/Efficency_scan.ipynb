{
 "cells": [
  {
   "cell_type": "markdown",
   "metadata": {
    "collapsed": true
   },
   "source": [
    "# Efficency scanner"
   ]
  },
  {
   "cell_type": "markdown",
   "metadata": {},
   "source": [
    "### This python script can record arbitrary data from a serial connection. For a set time even. Please note that the outputted data is likely formatted in mac line endings (because that is what Arduinos send). So if you want to use the data in another program, especially the analysis program, conversion to Linux line endings must be done. On Windows Notepad++ can do this.\n",
    "\n",
    "\n",
    "Note: the maximum output speed of the DAQ-card is about 30 events per second "
   ]
  },
  {
   "cell_type": "code",
   "execution_count": 2,
   "metadata": {
    "collapsed": true
   },
   "outputs": [],
   "source": [
    "import serial\n",
    "import time"
   ]
  },
  {
   "cell_type": "code",
   "execution_count": 3,
   "metadata": {},
   "outputs": [
    {
     "name": "stdout",
     "output_type": "stream",
     "text": [
      "Output file name: 20171113-1049_Efficency_scan_start-5_stop-180_step-5_sec_per_rec_120_detector_mode_2E.txt\n"
     ]
    }
   ],
   "source": [
    "# settings\n",
    "\n",
    "recording_secs_per_setting = 60*2\n",
    "\n",
    "start_threshold = 5\n",
    "stop_threshold = 180\n",
    "step_size = 5\n",
    "\n",
    "detector_mode = \"2E\" # Coincidence (threefold) and Channels (1,2,3), no veto\n",
    "#detector_mode = \"2E\" # Coincidence (threefold) and Channels (1,2,3), no veto\n",
    "\n",
    "output_file = time.strftime(\"%Y%m%d-%H%M\")+\"_Efficency_scan\"\n",
    "output_file += \"_start-\"+str(start_threshold)+\"_stop-\"+str(stop_threshold)+\"_step-\"+str(step_size)\n",
    "output_file += \"_sec_per_rec_\"+str(recording_secs_per_setting)\n",
    "output_file += \"_detector_mode_\"+str(detector_mode)+\".txt\"\n",
    "print(\"Output file name: \" + output_file)\n",
    "serial_port = 'COM14'\n",
    "baud_rate = 115200"
   ]
  },
  {
   "cell_type": "code",
   "execution_count": 4,
   "metadata": {},
   "outputs": [],
   "source": [
    "# start the serial connection\n",
    "ser = serial.Serial(serial_port, baud_rate, timeout=0.5)"
   ]
  },
  {
   "cell_type": "code",
   "execution_count": 5,
   "metadata": {
    "collapsed": true
   },
   "outputs": [],
   "source": [
    "# Functions\n",
    "\n",
    "def turn_off_auto_reset():\n",
    "    commands = \"ST 0\\r\"\n",
    "    setting_successfull = False\n",
    "    while setting_successfull == False:\n",
    "        ser.write(commands)\n",
    "        # check if everything was recieved as prompted\n",
    "        curr_line = str(ser.readline())\n",
    "        curr_line = str(ser.readline())\n",
    "        checking_line = curr_line\n",
    "        if \"ST Disabled\" in checking_line:\n",
    "            setting_successfull = True\n",
    "            print(\"Disabling of the auto reset was sucessfull\")\n",
    "            break\n",
    "        else:\n",
    "            print(\"Disabling of the auto reset mode failed! Retring now.\")\n",
    "            setting_successfull = False\n",
    "            continue\n",
    "\n",
    "def set_detector_mode(detector_mode):\n",
    "    commands = \"WC 00 \"+detector_mode+\"\\r\"\n",
    "    setting_successfull = False\n",
    "    while setting_successfull == False:\n",
    "        ser.write(commands)\n",
    "        # check if everything was recieved as prompted\n",
    "        curr_line = str(ser.readline())\n",
    "        curr_line = str(ser.readline())\n",
    "        checking_line = curr_line\n",
    "        returned_parameters = checking_line.split(\"=\")\n",
    "        result_setting = returned_parameters[1].replace('\\r\\n', '')\n",
    "        if (result_setting == detector_mode):\n",
    "            setting_successfull = True\n",
    "            print(\"Setting of the coincidence mode was sucessfull\")\n",
    "            break\n",
    "        else:\n",
    "            print(\"Setting of the coincidence mode failed! Retring now.\")\n",
    "            setting_successfull = False\n",
    "            continue\n",
    "    \n",
    "\n",
    "def set_thresh(threshs):\n",
    "    setting_successfull = False\n",
    "    while setting_successfull == False:\n",
    "        commands = \"TL 0 \"+str(threshs[0])+\"\\rTL 1 \"+str(threshs[1])+\"\\rTL 2 \"+str(threshs[2])+\"\\rTL 3 \"+str(threshs[3])+\"\\r\"\n",
    "        ser.write(commands)\n",
    "        # poll until all commands were recieved\n",
    "        curr_line = ser.readline()\n",
    "        while not (curr_line == ''):\n",
    "            curr_line = ser.readline()\n",
    "        # check if everything was recieved as prompted\n",
    "        ser.write(\"TL\\r\")\n",
    "        curr_line = str(ser.readline())\n",
    "        curr_line = str(ser.readline())\n",
    "        checking_line = curr_line\n",
    "        checking_line = checking_line.replace(\"L0\",\"\").replace(\"L1\",\"\").replace(\"L2\",\"\").replace(\"L3\",\"\")\n",
    "        returned_parameters = checking_line.split(\"=\")\n",
    "        for i in range(len(threshs)):\n",
    "            if(int(returned_parameters[i+1]) != int(threshs[i])):\n",
    "                print(\"Setting of thresholds failed! Retring now.\")\n",
    "                setting_successfull = False\n",
    "                continue\n",
    "        setting_successfull = True\n",
    "        print(\"Setting of thresholds was sucessfull. Set to: \"+str(threshs))\n",
    "        break\n",
    "        \n",
    "def stop_detector_output():\n",
    "    # stop the output from the detector and poll last lines\n",
    "    print(\"Stopping detector output\")\n",
    "    ser.write(\"CD\\r\")\n",
    "    curr_line = ser.readline()\n",
    "    while not (curr_line == ''):\n",
    "        curr_line = ser.readline()\n",
    "    print(\"Detector output stopped\")"
   ]
  },
  {
   "cell_type": "code",
   "execution_count": 6,
   "metadata": {},
   "outputs": [
    {
     "name": "stdout",
     "output_type": "stream",
     "text": [
      "Stopping detector output\n",
      "Detector output stopped\n",
      "Setting of thresholds was sucessfull. Set to: [5, 5, 5, 5]\n",
      "Setting of the coincidence mode was sucessfull\n"
     ]
    }
   ],
   "source": [
    "turn_off_auto_reset()\n",
    "stop_detector_output()\n",
    "# setup the detector\n",
    "set_thresh([start_threshold for i in range(4)])\n",
    "set_detector_mode(detector_mode)"
   ]
  },
  {
   "cell_type": "code",
   "execution_count": null,
   "metadata": {},
   "outputs": [
    {
     "name": "stdout",
     "output_type": "stream",
     "text": [
      "Setting of thresholds was sucessfull. Set to: [5, 5, 5, 5]\n"
     ]
    }
   ],
   "source": [
    "current_thresh = start_threshold\n",
    "# write into output file\n",
    "with open(output_file, 'w') as f:\n",
    "    f.write(\"recording_secs_per_setting: \"+str(recording_secs_per_setting)+\"\\r\\r\")\n",
    "    while current_thresh <= stop_threshold:\n",
    "        # set new thresholds\n",
    "        set_thresh([current_thresh for i in range(4)])\n",
    "        f.write(\"Rien\\r\\r\")                # Make sure we have some space\n",
    "        f.write(\"Rien\\r\\r\")\n",
    "        f.write(\"Rien\\r\\r\")\n",
    "        f.write(\"Current Threshold: \"+str(current_thresh)+\"\\r\\r\")\n",
    "        # start detector\n",
    "        ser.write(\"CE\\r\")\n",
    "        # start the timer \n",
    "        start_time = time.time()\n",
    "        # read lines until we are supposed to stop\n",
    "        while time.time() < (start_time+recording_secs_per_setting):\n",
    "            line = ser.readline()   # read a '\\n' terminated line\n",
    "            # remove the \\n at the end\n",
    "            line = line.split('\\n')[0]\n",
    "            f.write(line)\n",
    "        # stop the detector\n",
    "        stop_detector_output()\n",
    "        \n",
    "        # read the counters\n",
    "        ser.write(\"DS\\r\")\n",
    "        # write lines into file:\n",
    "        curr_line = ser.readline()\n",
    "        while not (curr_line == ''):\n",
    "            # remove the \\n at the end\n",
    "            curr_line = curr_line.split('\\n')[0]\n",
    "            f.write(curr_line)\n",
    "            curr_line = ser.readline()\n",
    "        f.flush()\n",
    "        \n",
    "        # increment the threshold\n",
    "        current_thresh += step_size\n",
    "        \n",
    "        steps_left = (stop_threshold-current_thresh+step_size)/step_size\n",
    "        time_left = recording_secs_per_setting * steps_left\n",
    "        print(\"Estimated leftover runtime: {:.1f} [min]\".format(time_left/60.0))"
   ]
  },
  {
   "cell_type": "code",
   "execution_count": null,
   "metadata": {
    "collapsed": true
   },
   "outputs": [],
   "source": []
  }
 ],
 "metadata": {
  "anaconda-cloud": {},
  "kernelspec": {
   "display_name": "Python [conda root]",
   "language": "python",
   "name": "conda-root-py"
  },
  "language_info": {
   "codemirror_mode": {
    "name": "ipython",
    "version": 2
   },
   "file_extension": ".py",
   "mimetype": "text/x-python",
   "name": "python",
   "nbconvert_exporter": "python",
   "pygments_lexer": "ipython2",
   "version": "2.7.14"
  }
 },
 "nbformat": 4,
 "nbformat_minor": 2
}

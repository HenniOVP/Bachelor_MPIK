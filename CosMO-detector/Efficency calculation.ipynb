{
 "cells": [
  {
   "cell_type": "code",
   "execution_count": 22,
   "metadata": {
    "collapsed": true
   },
   "outputs": [],
   "source": [
    "%matplotlib inline\n",
    "import numpy as np\n",
    "import pandas as pd\n",
    "from pyik.numpyext import binomial_proportion\n",
    "import matplotlib.pyplot as plt\n",
    "import os"
   ]
  },
  {
   "cell_type": "code",
   "execution_count": 23,
   "metadata": {},
   "outputs": [
    {
     "data": {
      "text/html": [
       "<div>\n",
       "<style scoped>\n",
       "    .dataframe tbody tr th:only-of-type {\n",
       "        vertical-align: middle;\n",
       "    }\n",
       "\n",
       "    .dataframe tbody tr th {\n",
       "        vertical-align: top;\n",
       "    }\n",
       "\n",
       "    .dataframe thead th {\n",
       "        text-align: right;\n",
       "    }\n",
       "</style>\n",
       "<table border=\"1\" class=\"dataframe\">\n",
       "  <thead>\n",
       "    <tr style=\"text-align: right;\">\n",
       "      <th></th>\n",
       "      <th>Readout setup</th>\n",
       "      <th>Detector in the middle</th>\n",
       "      <th>Threshold settings [mV]</th>\n",
       "      <th>Measurment length [s]</th>\n",
       "      <th>Counter top&lt;-&gt;bottom</th>\n",
       "      <th>Error</th>\n",
       "      <th>Coutner (top&lt;-&gt;bottom)&lt;-&gt;mid</th>\n",
       "      <th>Error.1</th>\n",
       "      <th>Unnamed: 8</th>\n",
       "      <th>Percentage</th>\n",
       "      <th>Error (relative)</th>\n",
       "      <th>Error (FF)</th>\n",
       "      <th>Error (Michael)</th>\n",
       "      <th>Counts [Hz]</th>\n",
       "      <th>Counts [1/min]</th>\n",
       "    </tr>\n",
       "  </thead>\n",
       "  <tbody>\n",
       "    <tr>\n",
       "      <th>0</th>\n",
       "      <td>NIM 100ns gates</td>\n",
       "      <td>Scintillator-box #2 MPIK1</td>\n",
       "      <td>30,3; 30,3; 30,5</td>\n",
       "      <td>1210.219000</td>\n",
       "      <td>4889</td>\n",
       "      <td>69.921384</td>\n",
       "      <td>4857</td>\n",
       "      <td>69.692180</td>\n",
       "      <td>NaN</td>\n",
       "      <td>99.345469</td>\n",
       "      <td>2.012645</td>\n",
       "      <td>2.012645</td>\n",
       "      <td>0.001161</td>\n",
       "      <td>NaN</td>\n",
       "      <td>NaN</td>\n",
       "    </tr>\n",
       "    <tr>\n",
       "      <th>1</th>\n",
       "      <td>DAQ-Card2, with defaults</td>\n",
       "      <td>Scintillator-box #2 MPIK1</td>\n",
       "      <td>[300,303-14,303-11,305-17]</td>\n",
       "      <td>1198.548292</td>\n",
       "      <td>4355</td>\n",
       "      <td>65.992424</td>\n",
       "      <td>4290</td>\n",
       "      <td>65.498092</td>\n",
       "      <td>NaN</td>\n",
       "      <td>98.507463</td>\n",
       "      <td>2.118990</td>\n",
       "      <td>2.118990</td>\n",
       "      <td>0.001865</td>\n",
       "      <td>NaN</td>\n",
       "      <td>NaN</td>\n",
       "    </tr>\n",
       "    <tr>\n",
       "      <th>2</th>\n",
       "      <td>NIM 100ns gates</td>\n",
       "      <td>Scintillator-box #1 MPIK1</td>\n",
       "      <td>30,3; 30,3; 30,5</td>\n",
       "      <td>1200.000000</td>\n",
       "      <td>4765</td>\n",
       "      <td>69.028979</td>\n",
       "      <td>4716</td>\n",
       "      <td>68.673139</td>\n",
       "      <td>NaN</td>\n",
       "      <td>98.971668</td>\n",
       "      <td>2.032917</td>\n",
       "      <td>2.032917</td>\n",
       "      <td>0.001477</td>\n",
       "      <td>NaN</td>\n",
       "      <td>NaN</td>\n",
       "    </tr>\n",
       "    <tr>\n",
       "      <th>3</th>\n",
       "      <td>NIM 100ns gates</td>\n",
       "      <td>Scintillator-box #3 MPIK1</td>\n",
       "      <td>NaN</td>\n",
       "      <td>1200.000000</td>\n",
       "      <td>4675</td>\n",
       "      <td>68.373972</td>\n",
       "      <td>4655</td>\n",
       "      <td>68.227560</td>\n",
       "      <td>NaN</td>\n",
       "      <td>99.572193</td>\n",
       "      <td>2.061713</td>\n",
       "      <td>2.061713</td>\n",
       "      <td>0.000959</td>\n",
       "      <td>NaN</td>\n",
       "      <td>NaN</td>\n",
       "    </tr>\n",
       "    <tr>\n",
       "      <th>4</th>\n",
       "      <td>DAQ-Card2, with defaults</td>\n",
       "      <td>Scintillaotr-box #3 MPIK1</td>\n",
       "      <td>NaN</td>\n",
       "      <td>1198.197488</td>\n",
       "      <td>4318</td>\n",
       "      <td>65.711491</td>\n",
       "      <td>4230</td>\n",
       "      <td>65.038450</td>\n",
       "      <td>NaN</td>\n",
       "      <td>97.962019</td>\n",
       "      <td>2.119232</td>\n",
       "      <td>2.119232</td>\n",
       "      <td>0.002195</td>\n",
       "      <td>NaN</td>\n",
       "      <td>NaN</td>\n",
       "    </tr>\n",
       "    <tr>\n",
       "      <th>5</th>\n",
       "      <td>DAQ-Card2, with defaults</td>\n",
       "      <td>Scintillaotr-box #1 MPIK1</td>\n",
       "      <td>NaN</td>\n",
       "      <td>1798.394207</td>\n",
       "      <td>6860</td>\n",
       "      <td>82.825117</td>\n",
       "      <td>6157</td>\n",
       "      <td>78.466553</td>\n",
       "      <td>NaN</td>\n",
       "      <td>89.752187</td>\n",
       "      <td>1.575629</td>\n",
       "      <td>1.575629</td>\n",
       "      <td>0.004080</td>\n",
       "      <td>NaN</td>\n",
       "      <td>NaN</td>\n",
       "    </tr>\n",
       "    <tr>\n",
       "      <th>6</th>\n",
       "      <td>DAQ-Card2, with defaults</td>\n",
       "      <td>Scintillaotr-box #1 MPIK1</td>\n",
       "      <td>NaN</td>\n",
       "      <td>1198.734896</td>\n",
       "      <td>4829</td>\n",
       "      <td>69.491007</td>\n",
       "      <td>4366</td>\n",
       "      <td>66.075714</td>\n",
       "      <td>NaN</td>\n",
       "      <td>90.412094</td>\n",
       "      <td>1.888130</td>\n",
       "      <td>1.888130</td>\n",
       "      <td>0.004686</td>\n",
       "      <td>NaN</td>\n",
       "      <td>NaN</td>\n",
       "    </tr>\n",
       "  </tbody>\n",
       "</table>\n",
       "</div>"
      ],
      "text/plain": [
       "              Readout setup     Detector in the middle  \\\n",
       "0           NIM 100ns gates  Scintillator-box #2 MPIK1   \n",
       "1  DAQ-Card2, with defaults  Scintillator-box #2 MPIK1   \n",
       "2           NIM 100ns gates  Scintillator-box #1 MPIK1   \n",
       "3           NIM 100ns gates  Scintillator-box #3 MPIK1   \n",
       "4  DAQ-Card2, with defaults  Scintillaotr-box #3 MPIK1   \n",
       "5  DAQ-Card2, with defaults  Scintillaotr-box #1 MPIK1   \n",
       "6  DAQ-Card2, with defaults  Scintillaotr-box #1 MPIK1   \n",
       "\n",
       "      Threshold settings [mV]  Measurment length [s]  Counter top<->bottom  \\\n",
       "0            30,3; 30,3; 30,5            1210.219000                  4889   \n",
       "1  [300,303-14,303-11,305-17]            1198.548292                  4355   \n",
       "2            30,3; 30,3; 30,5            1200.000000                  4765   \n",
       "3                         NaN            1200.000000                  4675   \n",
       "4                         NaN            1198.197488                  4318   \n",
       "5                         NaN            1798.394207                  6860   \n",
       "6                         NaN            1198.734896                  4829   \n",
       "\n",
       "       Error  Coutner (top<->bottom)<->mid    Error.1  Unnamed: 8  Percentage  \\\n",
       "0  69.921384                          4857  69.692180         NaN   99.345469   \n",
       "1  65.992424                          4290  65.498092         NaN   98.507463   \n",
       "2  69.028979                          4716  68.673139         NaN   98.971668   \n",
       "3  68.373972                          4655  68.227560         NaN   99.572193   \n",
       "4  65.711491                          4230  65.038450         NaN   97.962019   \n",
       "5  82.825117                          6157  78.466553         NaN   89.752187   \n",
       "6  69.491007                          4366  66.075714         NaN   90.412094   \n",
       "\n",
       "   Error (relative)  Error (FF)  Error (Michael)  Counts [Hz]  Counts [1/min]  \n",
       "0          2.012645    2.012645         0.001161          NaN             NaN  \n",
       "1          2.118990    2.118990         0.001865          NaN             NaN  \n",
       "2          2.032917    2.032917         0.001477          NaN             NaN  \n",
       "3          2.061713    2.061713         0.000959          NaN             NaN  \n",
       "4          2.119232    2.119232         0.002195          NaN             NaN  \n",
       "5          1.575629    1.575629         0.004080          NaN             NaN  \n",
       "6          1.888130    1.888130         0.004686          NaN             NaN  "
      ]
     },
     "execution_count": 23,
     "metadata": {},
     "output_type": "execute_result"
    }
   ],
   "source": [
    "# extract data from excel\n",
    "path_to_excel_file = \"C:/Users/Hendrik/OneDrive/active_sync_storage/Uni/MPIK/Bachelor/Teilchenwelt_detector/Efficency_measurements.xlsx\"\n",
    "measured_data = pd.read_excel(path_to_excel_file)\n",
    "measured_data"
   ]
  },
  {
   "cell_type": "code",
   "execution_count": 24,
   "metadata": {
    "collapsed": true
   },
   "outputs": [],
   "source": [
    "n_selected = np.asarray(measured_data['Coutner (top<->bottom)<->mid'])\n",
    "n_tot = np.asarray(measured_data['Counter top<->bottom'])"
   ]
  },
  {
   "cell_type": "code",
   "execution_count": 25,
   "metadata": {},
   "outputs": [
    {
     "data": {
      "text/plain": [
       "array([ 0.99345469,  0.98507463,  0.98971668,  0.99572193,  0.97962019,\n",
       "        0.89752187,  0.90412094])"
      ]
     },
     "execution_count": 25,
     "metadata": {},
     "output_type": "execute_result"
    }
   ],
   "source": [
    "prop"
   ]
  },
  {
   "cell_type": "code",
   "execution_count": 27,
   "metadata": {},
   "outputs": [
    {
     "name": "stdout",
     "output_type": "stream",
     "text": [
      "ratio=0.993454694211\terr_up=0.00125934261642\terr_down=0.00105726155524;\tlabel: Scintillator-box #2 MPIK1\n",
      "ratio=0.989716684155\terr_up=0.001568755694\terr_down=0.00136298759401;\tlabel: Scintillator-box #1 MPIK1\n",
      "ratio=0.995721925134\terr_up=0.00106709967664\terr_down=0.000854799278773;\tlabel: Scintillator-box #3 MPIK1\n"
     ]
    },
    {
     "data": {
      "text/plain": [
       "(0.97903231710415495, 0.0022470483673471399, 0.0018999518170637905)"
      ]
     },
     "execution_count": 27,
     "metadata": {},
     "output_type": "execute_result"
    }
   ],
   "source": [
    "prop, upper, lower = binomial_proportion( n_selected, n_tot, coverage=0.683)\n",
    "tested_labels = []\n",
    "tested_index = []\n",
    "total_eff = 1\n",
    "total_err_up = 0\n",
    "total_err_down = 0\n",
    "for i in range(len(measured_data['Readout setup'])):\n",
    "    if \"NIM\" in measured_data['Readout setup'][i]:\n",
    "        tested_labels.append(measured_data['Detector in the middle'][i])\n",
    "        tested_index.append(i)\n",
    "        print(\"ratio={}\\terr_up={}\\terr_down={};\\tlabel: {}\".format(prop[i], upper[i], lower[i], measured_data['Detector in the middle'][i]))\n",
    "        total_eff *= prop[i]\n",
    "        total_err_up += np.square(upper[i]/prop[i])\n",
    "        total_err_down += np.square(lower[i]/prop[i])\n",
    "\n",
    "# calculate the values for the whole detector\n",
    "total_err_up = total_eff * np.sqrt(total_err_up)\n",
    "total_err_down = total_eff * np.sqrt(total_err_down)\n",
    "total_eff, total_err_up, total_err_down"
   ]
  },
  {
   "cell_type": "code",
   "execution_count": 9,
   "metadata": {},
   "outputs": [
    {
     "data": {
      "text/plain": [
       "(array([0, 2, 3]),\n",
       " array([u'Scintillator-box #2 MPIK1', u'Scintillator-box #1 MPIK1',\n",
       "        u'Scintillator-box #3 MPIK1'],\n",
       "       dtype='<U25'),\n",
       " array([1, 0, 2], dtype=int64),\n",
       " array([2, 0, 3]),\n",
       " array([u'Box #1', u'Box #2', u'Box #3'],\n",
       "       dtype='<U25'),\n",
       " array([u'Box #1', u'Box #2', u'Box #3'],\n",
       "       dtype='<U25'))"
      ]
     },
     "execution_count": 9,
     "metadata": {},
     "output_type": "execute_result"
    }
   ],
   "source": [
    "tested_index = np.asarray(tested_index)\n",
    "tested_labels = np.asarray(tested_labels)\n",
    "sorted_indexes = tested_index[np.argsort(tested_labels)]\n",
    "sorted_labels = tested_labels[np.argsort(tested_labels)]\n",
    "\n",
    "shortend_labels = sorted_labels\n",
    "for i in range(len(shortend_labels)):\n",
    "    shortend_labels[i] = 'B'+shortend_labels[i][14:19]\n",
    "\n",
    "upper_error = upper[sorted_indexes]\n",
    "lower_error = lower[sorted_indexes]\n",
    "errors = [upper_error, lower_error]\n",
    "\n",
    "tested_index, tested_labels, np.argsort(tested_labels), sorted_indexes, sorted_labels, shortend_labels"
   ]
  },
  {
   "cell_type": "code",
   "execution_count": 13,
   "metadata": {},
   "outputs": [
    {
     "data": {
      "image/png": "[encoded data removed]",
      "text/plain": [
       "<Figure size 864x648 with 1 Axes>"
      ]
     },
     "metadata": {},
     "output_type": "display_data"
    },
    {
     "data": {
      "image/png": "[encoded data removed]",
      "text/plain": [
       "<Figure size 648x486 with 1 Axes>"
      ]
     },
     "metadata": {},
     "output_type": "display_data"
    },
    {
     "data": {
      "image/png": "[encoded data removed]",
      "text/plain": [
       "<Figure size 432x324 with 1 Axes>"
      ]
     },
     "metadata": {},
     "output_type": "display_data"
    }
   ],
   "source": [
    "x_ticks_labels = shortend_labels\n",
    "x = range(len(x_ticks_labels))\n",
    "\n",
    "# create folder for the plot dump\n",
    "directory = \"plot_save/thesis_plots/\"\n",
    "if not os.path.exists(directory):\n",
    "    os.makedirs(directory)\n",
    "\n",
    "for size_factor in (1., .75, .5):\n",
    "\n",
    "    fig, ax = plt.subplots()\n",
    "    fig.set_size_inches(size_factor*9*4./3., size_factor*9)\n",
    "    \n",
    "    plt.errorbar([0,1,2], prop[tested_index],\n",
    "                     yerr=errors, fmt='o',\n",
    "                     markersize=3, label=\"Detector acceptance and error\")\n",
    "\n",
    "    # Set number of ticks for x-axis\n",
    "    ax.set_xticks(x)\n",
    "    # Set ticks labels for x-axis\n",
    "    ax.set_xticklabels(x_ticks_labels, rotation='horizontal', fontsize=14*size_factor+4)\n",
    "    axes = plt.gca()\n",
    "    axes.set_ylim([.985,1.])\n",
    "    plt.legend()\n",
    "    plt.xlabel(\"Measured scintillator box\")\n",
    "    plt.ylabel(r'Efficency $\\varepsilon$')\n",
    "    plt.savefig(directory+\"size_{}_efficency.pdf\".format(size_factor))\n",
    "    plt.show()"
   ]
  },
  {
   "cell_type": "code",
   "execution_count": null,
   "metadata": {
    "collapsed": true
   },
   "outputs": [],
   "source": []
  }
 ],
 "metadata": {
  "kernelspec": {
   "display_name": "Python [conda env:py27]",
   "language": "python",
   "name": "conda-env-py27-py"
  },
  "language_info": {
   "codemirror_mode": {
    "name": "ipython",
    "version": 2
   },
   "file_extension": ".py",
   "mimetype": "text/x-python",
   "name": "python",
   "nbconvert_exporter": "python",
   "pygments_lexer": "ipython2",
   "version": "2.7.14"
  }
 },
 "nbformat": 4,
 "nbformat_minor": 2
}
